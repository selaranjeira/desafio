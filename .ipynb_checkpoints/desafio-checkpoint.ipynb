{
 "cells": [
  {
   "cell_type": "code",
   "execution_count": 2,
   "metadata": {},
   "outputs": [],
   "source": [
    "import lzma\n",
    "import json\n",
    "import pandas as pd\n",
    "from collections import Counter\n",
    "\n",
    "#import gzip\n",
    "#gzip.GzipFile()\n",
    "\n",
    "f = lzma.LZMAFile('ecommerce-events.ndjson.xz')\n",
    "\n",
    "#for l in f:\n",
    "#    print(json.loads(l.decode('utf-8')))\n",
    "#    break\n",
    "\n",
    "events = [json.loads(l.decode('utf-8')) for l in f]"
   ]
  },
  {
   "cell_type": "code",
   "execution_count": 3,
   "metadata": {},
   "outputs": [
    {
     "name": "stdout",
     "output_type": "stream",
     "text": [
      "{'eventType': 'transaction', 'date': '2017-06-03 06:19:08', 'visitor': '0f0b47a0-f5a3-11e5-b7a4-4ff0e59e724a', 'deviceType': 'desktop', 'osType': 'Windows', 'osVersion': None, 'browserType': 'Chrome', 'browserVersion': '58.0.3029', 'referrerType': None, 'utm_source': None, 'utm_medium': None, 'utm_campaign': None, 'pageType': 'confirmation', 'category': None, 'url': '88ec4ebe923107cfcd385160d1d7d5c4121f8077', 'referrer': '6e03ee62984224d0c0f08d4b68b819297d7f4d14', 'order': 5258, 'orderItems': [{'product': 6461, 'price': 467.91, 'quantity': 2.0}]}\n"
     ]
    }
   ],
   "source": [
    "#print(Counter([x['eventType'] for x in events]))\n",
    "\n",
    "transactions = [x for x in events if x['eventType'] == \"transaction\"]\n",
    "\n",
    "print(transactions[0])"
   ]
  },
  {
   "cell_type": "code",
   "execution_count": 4,
   "metadata": {},
   "outputs": [
    {
     "data": {
      "text/html": [
       "<div>\n",
       "<style scoped>\n",
       "    .dataframe tbody tr th:only-of-type {\n",
       "        vertical-align: middle;\n",
       "    }\n",
       "\n",
       "    .dataframe tbody tr th {\n",
       "        vertical-align: top;\n",
       "    }\n",
       "\n",
       "    .dataframe thead th {\n",
       "        text-align: right;\n",
       "    }\n",
       "</style>\n",
       "<table border=\"1\" class=\"dataframe\">\n",
       "  <thead>\n",
       "    <tr style=\"text-align: right;\">\n",
       "      <th></th>\n",
       "      <th>order</th>\n",
       "      <th>orderItems</th>\n",
       "    </tr>\n",
       "  </thead>\n",
       "  <tbody>\n",
       "    <tr>\n",
       "      <th>0</th>\n",
       "      <td>5258</td>\n",
       "      <td>[{'product': 6461, 'price': 467.91, 'quantity'...</td>\n",
       "    </tr>\n",
       "    <tr>\n",
       "      <th>1</th>\n",
       "      <td>5385</td>\n",
       "      <td>[{'product': 19168, 'price': 30.27, 'quantity'...</td>\n",
       "    </tr>\n",
       "    <tr>\n",
       "      <th>2</th>\n",
       "      <td>5547</td>\n",
       "      <td>[{'product': 18143, 'price': 30.87, 'quantity'...</td>\n",
       "    </tr>\n",
       "    <tr>\n",
       "      <th>3</th>\n",
       "      <td>5355</td>\n",
       "      <td>[{'product': 19925, 'price': 59.67, 'quantity'...</td>\n",
       "    </tr>\n",
       "    <tr>\n",
       "      <th>4</th>\n",
       "      <td>5717</td>\n",
       "      <td>[{'product': 38, 'price': 129.9, 'quantity': 1...</td>\n",
       "    </tr>\n",
       "  </tbody>\n",
       "</table>\n",
       "</div>"
      ],
      "text/plain": [
       "   order                                         orderItems\n",
       "0   5258  [{'product': 6461, 'price': 467.91, 'quantity'...\n",
       "1   5385  [{'product': 19168, 'price': 30.27, 'quantity'...\n",
       "2   5547  [{'product': 18143, 'price': 30.87, 'quantity'...\n",
       "3   5355  [{'product': 19925, 'price': 59.67, 'quantity'...\n",
       "4   5717  [{'product': 38, 'price': 129.9, 'quantity': 1..."
      ]
     },
     "execution_count": 4,
     "metadata": {},
     "output_type": "execute_result"
    }
   ],
   "source": [
    "# type(transactions)\n",
    "df = pd.DataFrame(transactions)\n",
    "# df.columns = ['visitor','order','event','product','price','quantity']\n",
    "# columns=['visitor','order','event','product','price','quantity']\n",
    "df1 = df.drop(['browserType', 'browserVersion', 'category', 'date', 'deviceType', 'eventType', 'osType', 'osVersion', \n",
    "        'pageType', 'referrer','referrerType', 'url', 'utm_campaign', 'utm_medium', 'utm_source', 'visitor'], axis=1)\n",
    "df1.head()"
   ]
  },
  {
   "cell_type": "code",
   "execution_count": 5,
   "metadata": {},
   "outputs": [],
   "source": [
    "#df2 = pd.DataFrame(df1['orderItems'].values.tolist(), columns=['products','price', 'quantity'])\n",
    "#,type(df1.orderItems)"
   ]
  },
  {
   "cell_type": "code",
   "execution_count": 6,
   "metadata": {},
   "outputs": [
    {
     "data": {
      "text/html": [
       "<div>\n",
       "<style scoped>\n",
       "    .dataframe tbody tr th:only-of-type {\n",
       "        vertical-align: middle;\n",
       "    }\n",
       "\n",
       "    .dataframe tbody tr th {\n",
       "        vertical-align: top;\n",
       "    }\n",
       "\n",
       "    .dataframe thead th {\n",
       "        text-align: right;\n",
       "    }\n",
       "</style>\n",
       "<table border=\"1\" class=\"dataframe\">\n",
       "  <thead>\n",
       "    <tr style=\"text-align: right;\">\n",
       "      <th></th>\n",
       "      <th>order</th>\n",
       "      <th>price</th>\n",
       "      <th>totalItems</th>\n",
       "      <th>totalQty</th>\n",
       "    </tr>\n",
       "  </thead>\n",
       "  <tbody>\n",
       "    <tr>\n",
       "      <th>0</th>\n",
       "      <td>5258</td>\n",
       "      <td>935.82</td>\n",
       "      <td>1</td>\n",
       "      <td>2.0</td>\n",
       "    </tr>\n",
       "    <tr>\n",
       "      <th>1</th>\n",
       "      <td>5385</td>\n",
       "      <td>302.70</td>\n",
       "      <td>1</td>\n",
       "      <td>10.0</td>\n",
       "    </tr>\n",
       "    <tr>\n",
       "      <th>2</th>\n",
       "      <td>5547</td>\n",
       "      <td>679.14</td>\n",
       "      <td>1</td>\n",
       "      <td>22.0</td>\n",
       "    </tr>\n",
       "    <tr>\n",
       "      <th>3</th>\n",
       "      <td>5355</td>\n",
       "      <td>119.34</td>\n",
       "      <td>1</td>\n",
       "      <td>2.0</td>\n",
       "    </tr>\n",
       "    <tr>\n",
       "      <th>4</th>\n",
       "      <td>5717</td>\n",
       "      <td>129.90</td>\n",
       "      <td>1</td>\n",
       "      <td>1.0</td>\n",
       "    </tr>\n",
       "  </tbody>\n",
       "</table>\n",
       "</div>"
      ],
      "text/plain": [
       "   order   price  totalItems  totalQty\n",
       "0   5258  935.82           1       2.0\n",
       "1   5385  302.70           1      10.0\n",
       "2   5547  679.14           1      22.0\n",
       "3   5355  119.34           1       2.0\n",
       "4   5717  129.90           1       1.0"
      ]
     },
     "execution_count": 6,
     "metadata": {},
     "output_type": "execute_result"
    }
   ],
   "source": [
    "transactions2 = []\n",
    "for t in transactions:\n",
    "    totalPrice = totalItems = totalQty = 0\n",
    "    for p in t[\"orderItems\"]:\n",
    "        totalPrice += p[\"price\"] * p[\"quantity\"]\n",
    "        totalQty += p[\"quantity\"]\n",
    "        totalItems += 1\n",
    "    tnew = {\n",
    "        #\"date\": t[\"date\"],\n",
    "        \"order\": t[\"order\"],\n",
    "        \"totalItems\": totalItems,\n",
    "        \"totalQty\": totalQty,\n",
    "        \"price\": totalPrice,\n",
    "    }\n",
    "    transactions2.append(tnew)\n",
    "df2 = pd.DataFrame(transactions2)\n",
    "df2.head()"
   ]
  },
  {
   "cell_type": "code",
   "execution_count": 7,
   "metadata": {},
   "outputs": [
    {
     "data": {
      "text/plain": [
       "212022.27"
      ]
     },
     "execution_count": 7,
     "metadata": {},
     "output_type": "execute_result"
    }
   ],
   "source": [
    "df3 = df2.groupby(['order'], as_index=False).sum()\n",
    "df3.price.sum()"
   ]
  },
  {
   "cell_type": "markdown",
   "metadata": {},
   "source": [
    "### Questao 1) resposta: 212022.27"
   ]
  },
  {
   "cell_type": "code",
   "execution_count": 14,
   "metadata": {},
   "outputs": [
    {
     "name": "stdout",
     "output_type": "stream",
     "text": [
      "{'eventType': 'page', 'date': '2017-06-03 00:07:07', 'visitor': '70b09b50-4808-11e7-b949-31f33cf8565d', 'deviceType': 'mobile', 'osType': 'Android', 'osVersion': '5.1.1', 'browserType': 'Chrome Mobile', 'browserVersion': '58.0.3029', 'referrerType': None, 'utm_source': None, 'utm_medium': None, 'utm_campaign': None, 'pageType': 'subcategory', 'category': None, 'url': 'db2c1fd6668d7432a3e298b40f7b8758cc3e8447', 'referrer': '2282902993188bb2b91ce4e931c6f7a4a946f725'}\n"
     ]
    }
   ],
   "source": [
    "# visitor_device = pd.DataFrame([(e['visitor'], e['deviceType']) for e in events], \n",
    "#    columns=['visitor','deviceType'])\n",
    "# teste = events['deviceType'].nunique()\n",
    "# teste\n",
    "mobile_device = [x for x in events if x['deviceType'] == 'mobile']\n",
    "\n",
    "# print(events[0])\n",
    "\n",
    "print(mobile_device[0])\n"
   ]
  },
  {
   "cell_type": "code",
   "execution_count": 16,
   "metadata": {},
   "outputs": [
    {
     "data": {
      "text/plain": [
       "287358"
      ]
     },
     "execution_count": 16,
     "metadata": {},
     "output_type": "execute_result"
    }
   ],
   "source": [
    "df4 = pd.DataFrame(mobile_device)\n",
    "len(df4)"
   ]
  },
  {
   "cell_type": "code",
   "execution_count": 29,
   "metadata": {},
   "outputs": [
    {
     "data": {
      "text/html": [
       "<div>\n",
       "<style scoped>\n",
       "    .dataframe tbody tr th:only-of-type {\n",
       "        vertical-align: middle;\n",
       "    }\n",
       "\n",
       "    .dataframe tbody tr th {\n",
       "        vertical-align: top;\n",
       "    }\n",
       "\n",
       "    .dataframe thead th {\n",
       "        text-align: right;\n",
       "    }\n",
       "</style>\n",
       "<table border=\"1\" class=\"dataframe\">\n",
       "  <thead>\n",
       "    <tr style=\"text-align: right;\">\n",
       "      <th></th>\n",
       "      <th>0</th>\n",
       "      <th>1</th>\n",
       "    </tr>\n",
       "  </thead>\n",
       "  <tbody>\n",
       "    <tr>\n",
       "      <th>0</th>\n",
       "      <td>89206c00-3f26-11e7-9978-fdec7f5865bc</td>\n",
       "      <td>desktop</td>\n",
       "    </tr>\n",
       "    <tr>\n",
       "      <th>1</th>\n",
       "      <td>b96acfe0-4809-11e7-9b7d-e57b4710e964</td>\n",
       "      <td>desktop</td>\n",
       "    </tr>\n",
       "    <tr>\n",
       "      <th>2</th>\n",
       "      <td>70b09b50-4808-11e7-b949-31f33cf8565d</td>\n",
       "      <td>mobile</td>\n",
       "    </tr>\n",
       "    <tr>\n",
       "      <th>3</th>\n",
       "      <td>ff14b670-4776-11e7-8c72-5f5d3fe5c610</td>\n",
       "      <td>desktop</td>\n",
       "    </tr>\n",
       "    <tr>\n",
       "      <th>4</th>\n",
       "      <td>fad427f0-d767-11e6-aea4-61a60e8da6e5</td>\n",
       "      <td>desktop</td>\n",
       "    </tr>\n",
       "  </tbody>\n",
       "</table>\n",
       "</div>"
      ],
      "text/plain": [
       "                                      0        1\n",
       "0  89206c00-3f26-11e7-9978-fdec7f5865bc  desktop\n",
       "1  b96acfe0-4809-11e7-9b7d-e57b4710e964  desktop\n",
       "2  70b09b50-4808-11e7-b949-31f33cf8565d   mobile\n",
       "3  ff14b670-4776-11e7-8c72-5f5d3fe5c610  desktop\n",
       "4  fad427f0-d767-11e6-aea4-61a60e8da6e5  desktop"
      ]
     },
     "execution_count": 29,
     "metadata": {},
     "output_type": "execute_result"
    }
   ],
   "source": [
    "mobile_device = pd.DataFrame([(e['visitor'], e['deviceType']) for e in events])\n",
    "mobile_device.drop_duplicates().head()"
   ]
  },
  {
   "cell_type": "code",
   "execution_count": 21,
   "metadata": {},
   "outputs": [
    {
     "data": {
      "text/plain": [
       "114447"
      ]
     },
     "execution_count": 21,
     "metadata": {},
     "output_type": "execute_result"
    }
   ],
   "source": [
    "len(mobile_device.drop_duplicates())"
   ]
  },
  {
   "cell_type": "code",
   "execution_count": 24,
   "metadata": {},
   "outputs": [
    {
     "data": {
      "text/plain": [
       "0.3982732340843129"
      ]
     },
     "execution_count": 24,
     "metadata": {},
     "output_type": "execute_result"
    }
   ],
   "source": [
    "114447/287358"
   ]
  },
  {
   "cell_type": "markdown",
   "metadata": {},
   "source": [
    "### Questao2) resposta: 0.4"
   ]
  },
  {
   "cell_type": "code",
   "execution_count": 26,
   "metadata": {},
   "outputs": [
    {
     "name": "stdout",
     "output_type": "stream",
     "text": [
      "{'eventType': 'search', 'date': '2017-06-03 00:11:16', 'visitor': '7e7b19a0-b6a3-11e6-8940-2b661c4cb0ac', 'deviceType': 'mobile', 'osType': 'Android', 'osVersion': '4.4.4', 'browserType': 'Chrome', 'browserVersion': '58.0.3029', 'referrerType': 'search', 'utm_source': None, 'utm_medium': None, 'utm_campaign': None, 'pageType': 'search', 'category': None, 'url': 'a4eb2586a7e400d9a76f43ade03453faa5f9c86d', 'referrer': '85ad0be7bba37946a4ef53708c662d4927d04f10', 'query': 'hiper metros standart', 'searchItems': [17470, 8383, 17320, 6117, 6404, 8149, 1162, 88, 409, 13755, 4815, 11465, 1500, 13425, 13872, 13841, 7104, 17990, 11888, 12641, 10815, 7268, 16782, 2991]}\n"
     ]
    }
   ],
   "source": [
    "busca = [x for x in events if x['eventType'] == 'search']\n",
    "\n",
    "print(busca[0])"
   ]
  },
  {
   "cell_type": "markdown",
   "metadata": {},
   "source": [
    " passo1) filtrar pra pegar apenas as buscas que tiveram pelo menos 15 ocorrências"
   ]
  },
  {
   "cell_type": "code",
   "execution_count": null,
   "metadata": {},
   "outputs": [],
   "source": []
  }
 ],
 "metadata": {
  "kernelspec": {
   "display_name": "Python 3",
   "language": "python",
   "name": "python3"
  },
  "language_info": {
   "codemirror_mode": {
    "name": "ipython",
    "version": 3
   },
   "file_extension": ".py",
   "mimetype": "text/x-python",
   "name": "python",
   "nbconvert_exporter": "python",
   "pygments_lexer": "ipython3",
   "version": "3.6.6"
  }
 },
 "nbformat": 4,
 "nbformat_minor": 2
}
